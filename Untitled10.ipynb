{
  "nbformat": 4,
  "nbformat_minor": 0,
  "metadata": {
    "colab": {
      "provenance": [],
      "authorship_tag": "ABX9TyMSTa9vOe98S00+QGsV/Zd+",
      "include_colab_link": true
    },
    "kernelspec": {
      "name": "python3",
      "display_name": "Python 3"
    },
    "language_info": {
      "name": "python"
    }
  },
  "cells": [
    {
      "cell_type": "markdown",
      "metadata": {
        "id": "view-in-github",
        "colab_type": "text"
      },
      "source": [
        "<a href=\"https://colab.research.google.com/github/joanasampaio07/Extrato-bancario/blob/main/Untitled10.ipynb\" target=\"_parent\"><img src=\"https://colab.research.google.com/assets/colab-badge.svg\" alt=\"Open In Colab\"/></a>"
      ]
    },
    {
      "cell_type": "code",
      "source": [
        "!pip -q install crewai DuckDuckGo-Search\n",
        "!pip -q install 'crewai[tools]' decouple langchain-exa exa_py==1.0.7\n",
        "\n",
        "# crewai==0.22.5"
      ],
      "metadata": {
        "id": "pa62KRrjZLDQ"
      },
      "execution_count": 32,
      "outputs": []
    },
    {
      "cell_type": "code",
      "source": [
        "!pip show crewai"
      ],
      "metadata": {
        "colab": {
          "base_uri": "https://localhost:8080/"
        },
        "id": "WROOZDMWZvno",
        "outputId": "2b4934ce-46d5-47d0-a4f8-610f401e9700"
      },
      "execution_count": 33,
      "outputs": [
        {
          "output_type": "stream",
          "name": "stdout",
          "text": [
            "Name: crewai\n",
            "Version: 0.95.0\n",
            "Summary: Cutting-edge framework for orchestrating role-playing, autonomous AI agents. By fostering collaborative intelligence, CrewAI empowers agents to work together seamlessly, tackling complex tasks.\n",
            "Home-page: https://crewai.com\n",
            "Author: \n",
            "Author-email: Joao Moura <joao@crewai.com>\n",
            "License: \n",
            "Location: /usr/local/lib/python3.10/dist-packages\n",
            "Requires: appdirs, auth0-python, blinker, chromadb, click, instructor, json-repair, jsonref, litellm, openai, openpyxl, opentelemetry-api, opentelemetry-exporter-otlp-proto-http, opentelemetry-sdk, pdfplumber, pydantic, python-dotenv, pyvis, regex, tomli, tomli-w, uv\n",
            "Required-by: crewai-tools\n"
          ]
        }
      ]
    },
    {
      "cell_type": "code",
      "source": [
        "import os\n",
        "from google.colab import userdata\n",
        "\n",
        "try:\n",
        "    os.environ[\"OPENAI_API_KEY\"] = userdata.get('OPENAI_API_KEY')\n",
        "except userdata.SecretNotFoundError:\n",
        "    print(\"Error: The OPENAI_API_KEY secret is not set in Google Colab. Please set it in the 'Secrets' section.\")\n",
        "except userdata.NotebookAccessError:\n",
        "    print(\"Error: This notebook does not have access to the OPENAI_API_KEY secret. Please grant access in the 'Secrets' section.\")\n",
        "\n",
        "\n",
        "try:\n",
        "    os.environ[\"EXA_API_KEY\"] = userdata.get('EXA_API_KEY')\n",
        "except userdata.SecretNotFoundError:\n",
        "    print(\"Error: The EXA_API_KEY secret is not set in Google Colab. Please set it in the 'Secrets' section.\")\n",
        "except userdata.NotebookAccessError:\n",
        "    print(\"Error: This notebook does not have access to the EXA_API_KEY secret. Please grant access in the 'Secrets' section.\")"
      ],
      "metadata": {
        "colab": {
          "base_uri": "https://localhost:8080/"
        },
        "id": "PRTKS3uFfM3-",
        "outputId": "30137d43-b83a-4b2a-9ada-a22d26ab42ca"
      },
      "execution_count": 57,
      "outputs": [
        {
          "output_type": "stream",
          "name": "stdout",
          "text": [
            "Error: The OPENAI_API_KEY secret is not set in Google Colab. Please set it in the 'Secrets' section.\n",
            "Error: The EXA_API_KEY secret is not set in Google Colab. Please set it in the 'Secrets' section.\n"
          ]
        }
      ]
    },
    {
      "cell_type": "code",
      "source": [
        "!pip install -q -U crewai"
      ],
      "metadata": {
        "id": "RVq-fGm0c9Ty"
      },
      "execution_count": 41,
      "outputs": []
    },
    {
      "cell_type": "code",
      "source": [
        "!pip install -q -U DuckDuckGo-Search"
      ],
      "metadata": {
        "id": "qmRPr29ecvj5"
      },
      "execution_count": 39,
      "outputs": []
    },
    {
      "cell_type": "code",
      "source": [
        "from google.colab import userdata\n",
        "os.environ[\"GEMINI_API_KEY\"] = userdata.get('GEMINI_API_KEY')\n",
        "\n",
        "my_llm = LLM(\n",
        "              model='gemini/gemini-1.5-flash',\n",
        "              api_key=os.environ[\"GEMINI_API_KEY\"]\n",
        "            )"
      ],
      "metadata": {
        "id": "Np1N59RNfc8m"
      },
      "execution_count": 58,
      "outputs": []
    },
    {
      "cell_type": "code",
      "source": [
        "from crewai import Crew\n",
        "from crewai.tools import tool\n",
        "from langchain.tools import DuckDuckGoSearchRun\n",
        "search_tool = DuckDuckGoSearchRun()\n",
        "\n",
        "@tool('DuckDuckGoSearch')\n",
        "def search_tool(search_query: str):\n",
        "    \"\"\"Search the web for information on a given topic\"\"\"\n",
        "    return DuckDuckGoSearchRun().run(search_query)"
      ],
      "metadata": {
        "id": "E93bRGwBcOzm"
      },
      "execution_count": 45,
      "outputs": []
    },
    {
      "cell_type": "code",
      "source": [
        "buscador = Agent(\n",
        "    role = 'Buscador de Conteúdo',\n",
        "    goal = 'Buscar conteúdo on line sobre {tema}',\n",
        "    backstory = '''\n",
        "                Você está trabalhando na criação de artigos em português para o LinkedIn sobre o {tema}.\n",
        "                Você vai fazer uma busca sobre informações na internet, coletá-las e agrupá-las e se necessário, traduzi-las para português.\n",
        "                Seu trabalho servirá como base para o Escritor de Conteúdo.\n",
        "                ''',\n",
        "    llm = my_llm,\n",
        "    verbose=True,\n",
        "    allow_delegate=False,\n",
        "    tools = [search_tool]\n",
        ")\n"
      ],
      "metadata": {
        "id": "QzEDtbbNdaLy"
      },
      "execution_count": 46,
      "outputs": []
    },
    {
      "cell_type": "code",
      "source": [
        "escritor = Agent(\n",
        "    role = 'Escritor de conteúdo',\n",
        "    goal = 'Escrever um texto para o Linkedin sobre {tema}',\n",
        "    backstory = ''''\n",
        "                Você está trabalhando na redação de um artigo para o LinkedIn sobre {tema}.\n",
        "                Você vai utilizar os dados coletados pelo Buscador de Conteúdo para escrever um texto em português.\n",
        "                O artigo deve ter um tom divertido mas factualmente correto.\n",
        "                ''',\n",
        "    tools = [search_tool],\n",
        "    llm=my_llm,\n",
        "    verbose=True\n",
        ")"
      ],
      "metadata": {
        "id": "JfzqJFfXdpj6"
      },
      "execution_count": 47,
      "outputs": []
    },
    {
      "cell_type": "code",
      "source": [
        "editor = Agent(\n",
        "    role = 'Editor de Conteúdo',\n",
        "    goal = 'Editar um texto de LinkedIn para que o mesmo seja factualmente correto e tenha um tom informal e divertido.',\n",
        "    backstory = ''''\n",
        "                Você está trabalhando na edição e correção de um artigo para o LinkedIn.\n",
        "                Você vai receber um texto do Escritor de Conteúdo e vai revisá-lo e editá-lo.\n",
        "                Seu texto para a publicação deve ser em português.\n",
        "                ''',\n",
        "    tools = [search_tool],\n",
        "    llm=my_llm,\n",
        "    verbose=True\n",
        ")"
      ],
      "metadata": {
        "id": "U7rRgMQ0dtck"
      },
      "execution_count": 48,
      "outputs": []
    },
    {
      "cell_type": "code",
      "source": [
        "buscar = Task(\n",
        "    description=\n",
        "        '''\n",
        "        1. Priorize as últimas tendências, os principais atores e as notícias mais relevantes sobre o {tema}.\\n\n",
        "        2. Identifique o público-alvo, considerando seus interesses e pontos de dor.\\n\n",
        "        3. Inclua palavras-chave de SEO e o dados de fontes relevantes.\n",
        "        ''',\n",
        "    agent=buscador,\n",
        "    expected_output='Um plano de tendências sobre {tema} com as palavras mais relevantes de SEO e as últimas notícias.'\n",
        ")"
      ],
      "metadata": {
        "id": "Vp-SQU4HdzI9"
      },
      "execution_count": 49,
      "outputs": []
    },
    {
      "cell_type": "code",
      "source": [
        "escrever = Task(\n",
        "    description='''\n",
        "        1. Use os dados coletados de conteúdo para criar um post de LinkedIn atraente sobre o {tema}.\\n\n",
        "        2. Incorpore palavras-chave de SEO de forma natural. \\n\n",
        "        3. Certifique-se de que o post esteja estruturado de forma cativante, com uma conclusão que faça o leitor refletir. \\n\n",
        "        ''',\n",
        "    agent=escritor,\n",
        "    expected_output='Um texto sobre {tema} para o Linkedin.'\n",
        ")"
      ],
      "metadata": {
        "id": "LLPatorId0ky"
      },
      "execution_count": 50,
      "outputs": []
    },
    {
      "cell_type": "code",
      "source": [
        "revisar = Task(\n",
        "    description=(\"Revisar a postagem de LinkedIn em questão quanto a erros gramaticais\"\n",
        "    ),\n",
        "    agent=editor,\n",
        "    expected_output='Um texto de Linkedin pronto para a publicação. O texto está separado em parágrafos e não utiliza bullet point'\n",
        ")"
      ],
      "metadata": {
        "id": "Gd08JAwHd3hi"
      },
      "execution_count": 51,
      "outputs": []
    },
    {
      "cell_type": "code",
      "source": [
        "crew = Crew(\n",
        "    agents=[buscador,escritor,editor],\n",
        "    tasks=[buscar,escrever,revisar],\n",
        "    verbose=1,\n",
        "    process=Process.sequential\n",
        ")"
      ],
      "metadata": {
        "id": "smt97T59d6eq"
      },
      "execution_count": 52,
      "outputs": []
    },
    {
      "cell_type": "code",
      "source": [
        "tema_de_pesquisa = 'Oportunidades para Desenvolvedor de IA no Brasil'\n",
        "\n",
        "entradas = {\"tema\": tema_de_pesquisa}\n",
        "\n",
        "resultado = crew.kickoff(inputs=entradas)"
      ],
      "metadata": {
        "colab": {
          "base_uri": "https://localhost:8080/"
        },
        "id": "WrMfUIi7d-2r",
        "outputId": "8741eebe-40b0-4c1e-8b81-4dfff736805e"
      },
      "execution_count": 61,
      "outputs": [
        {
          "output_type": "stream",
          "name": "stdout",
          "text": [
            "\u001b[1m\u001b[95m# Agent:\u001b[00m \u001b[1m\u001b[92mBuscador de Conteúdo\u001b[00m\n",
            "\u001b[95m## Task:\u001b[00m \u001b[92m\n",
            "        1. Priorize as últimas tendências, os principais atores e as notícias mais relevantes sobre o Oportunidades para Desenvolvedor de IA no Brasil.\n",
            "\n",
            "        2. Identifique o público-alvo, considerando seus interesses e pontos de dor.\n",
            "\n",
            "        3. Inclua palavras-chave de SEO e o dados de fontes relevantes.\n",
            "        \u001b[00m\n",
            "\n",
            "\n",
            "\u001b[1m\u001b[95m# Agent:\u001b[00m \u001b[1m\u001b[92mBuscador de Conteúdo\u001b[00m\n",
            "\u001b[95m## Thought:\u001b[00m \u001b[92mThought: Para cumprir a tarefa, preciso buscar informações sobre oportunidades para desenvolvedores de IA no Brasil, focando em tendências, principais atores, notícias relevantes, público-alvo, palavras-chave de SEO e fontes relevantes.  Vou usar o DuckDuckGoSearch para coletar essas informações.\u001b[00m\n",
            "\u001b[95m## Using tool:\u001b[00m \u001b[92mDuckDuckGoSearch\u001b[00m\n",
            "\u001b[95m## Tool Input:\u001b[00m \u001b[92m\n",
            "\"{\\\"search_query\\\": \\\"Oportunidades para Desenvolvedores de IA no Brasil\\\"}\"\u001b[00m\n",
            "\u001b[95m## Tool Output:\u001b[00m \u001b[92m\n",
            "Competências em machine learning, deep learning, e algoritmos de IA são cruciais, assim como experiência com plataformas de IA, como IBM Watson, Google AI, ou Amazon Web Services (AWS). Oportunidades de trabalho: Engenheiros de IA são muito demandados em setores como tecnologia, saúde, automotivo e finanças. A remuneração para esses ... Oportunidades para brasileiros. No Brasil, muitos profissionais estão se dedicando ao treinamento de IA de diversas formas, seja atuando como freelancers, consultores ou até mesmo em empresas especializadas em tecnologia. ... profissionais de TI, desenvolvedores e até mesmo freelancers de marketing podem encontrar novas fontes de renda ... Inteligência artificial será uma das áreas com maior demanda de contratações em TI no Brasil em 2025, ... todo o mercado se voltou para a IA. Abriu-se um 'hidrante para a gente beber água ... GERADO EM: 24/10/2024 - 04:00 Investimento estratégico impulsiona desenvolvedores brasileiros de IA. Desenvolvedores brasileiros atraem gigantes da tecnologia para investir em inteligência ... A inteligência artificial (IA) está possibilitando a automatização de inúmeras atividades, desde o processamento de grandes bases de dados até a criação de conteúdo criativo. Neste artigo, vamos explorar as implicações da inteligência artificial no mercado de trabalho brasileiro, as novas oportunidades que surgem e os desafios para ...\u001b[00m\n",
            "\n",
            "\n",
            "\u001b[1m\u001b[95m# Agent:\u001b[00m \u001b[1m\u001b[92mBuscador de Conteúdo\u001b[00m\n",
            "\u001b[95m## Thought:\u001b[00m \u001b[92mThought: A busca inicial retornou informações gerais. Preciso refinar a busca para obter informações mais específicas sobre tendências, atores relevantes, notícias recentes e dados sobre o público-alvo.\u001b[00m\n",
            "\u001b[95m## Using tool:\u001b[00m \u001b[92mDuckDuckGoSearch\u001b[00m\n",
            "\u001b[95m## Tool Input:\u001b[00m \u001b[92m\n",
            "\"{\\\"search_query\\\": \\\"Tend\\\\u00eancias de IA no Brasil 2024\\\"}\"\u001b[00m\n",
            "\u001b[95m## Tool Output:\u001b[00m \u001b[92m\n",
            "As próximas tendências de IA. Alguns acontecimentos de 2024 ajudam a entender um pouco do que esperar do tema no ano que vem. Entre as ferramentas, uma das tendências deve ser a popularização ... O Plano Brasileiro de Inteligência Artificial (PBIA) 2024-2028, lançado durante a 5ª Conferência Nacional de Ciência, Tecnologia e Inovação, representa um marco histórico para o desenvolvimento tecnológico do Brasil. Com um investimento previsto de R$ 23 bilhões em quatro anos, o plano ambicioso visa transformar o país em referência ... Melhores Estatísticas de Inteligência Artificial. Nesta seção, revelaremos o alcance e o impacto da tecnologia de IA e forneceremos informações que podem orientar tanto estratégias de negócios quanto trajetórias de carreira individuais.. 1. Estima-se que o tamanho do mercado global de IA cresça 37% anualmente de 2023 a 2030. À medida que a Inteligência Artificial (IA) generativa e o machine learning permeiam cada vez mais operações e processos em todo o setor de serviços, Mark Brewer, vice-presidente de indústrias de serviços da IFS, compartilha suas cinco principais previsões de campo alimentadas por IA para 2024 e ilustra as oportunidades para esses diferentes tendências a se cruzarem. O que 2024 nos ensinou sobre IA é uma história fascinante de. progresso, desafios e oportunidades Este ano, a IA não foi apenas uma palavra da moda - ela se tornou um fator de mudança em todas as indústrias, fazendo manchetes tanto por incríveis avanços quanto por controvérsias acaloradas.. Dos chatbots mais inteligentes e clones de voz mais realistas até debates sobre segurança no ...\u001b[00m\n",
            "\n",
            "\n",
            "\u001b[1m\u001b[95m# Agent:\u001b[00m \u001b[1m\u001b[92mBuscador de Conteúdo\u001b[00m\n",
            "\u001b[95m## Thought:\u001b[00m \u001b[92mAction: DuckDuckGoSearch\u001b[00m\n",
            "\u001b[95m## Using tool:\u001b[00m \u001b[92mDuckDuckGoSearch\u001b[00m\n",
            "\u001b[95m## Tool Input:\u001b[00m \u001b[92m\n",
            "\"{\\\"search_query\\\": \\\"Principais empresas de IA no Brasil\\\"}\"\u001b[00m\n",
            "\u001b[95m## Tool Output:\u001b[00m \u001b[92m\n",
            "Cromai, Colektia, Munai, Apli, Cortex, Attus e Ubots foram destacadas pelo Distrito como startups que estão ajudando na implementação de tecnologias de IA no continente No Brasil, a inteligência artificial também tem ganhado destaque. ... A Microsoft (MSFT34) é uma das maiores empresas de tecnologia do mundo, fundada em 1975. Ela é conhecida por suas soluções de software, como o Windows e o Office, e também atua em computação em nuvem com o Azure. ... Diversificação setorial: empresas de IA atuam em ... Neste artigo, exploraremos as principais empresas de IA listadas em bolsas de valores, suas áreas de atuação, inovações e como elas estão moldando o futuro. 1. NVIDIA (NASDAQ: NVDA) ... Quantas empresas usam Inteligência Artificial no Brasil? Nos últimos anos, a adoção de inteligência artificial (IA) no. Leia mais » Machine Learning. As startups mais valiosas da sexta edição da lista Forbes IA 50 somam mais de R$ 760 bilhões — US$ 147 bilhões. RETROSPECTIVA 2024 ... como fica imediatamente evidente pelas três maiores empresas da lista deste ano em termos de valoração. A OpenAI (US$ 86 bilhões) conta com clientes que vão do Morgan Stanley ao governo da Islândia ... Glean: Plataforma empresarial de IA que integra todos os dados de uma empresa. Greenlite: Plataforma de automatização para fintechs e bancos usando IA, ...\n",
            "\n",
            "\n",
            "You ONLY have access to the following tools, and should NEVER make up tools that are not listed here:\n",
            "\n",
            "Tool Name: DuckDuckGoSearch\n",
            "Tool Arguments: {'search_query': {'description': None, 'type': 'str'}}\n",
            "Tool Description: Search the web for information on a given topic\n",
            "\n",
            "Use the following format:\n",
            "\n",
            "Thought: you should always think about what to do\n",
            "Action: the action to take, only one name of [DuckDuckGoSearch], just the name, exactly as it's written.\n",
            "Action Input: the input to the action, just a simple python dictionary, enclosed in curly braces, using \" to wrap keys and values.\n",
            "Observation: the result of the action\n",
            "\n",
            "Once all necessary information is gathered:\n",
            "\n",
            "Thought: I now know the final answer\n",
            "Final Answer: the final answer to the original input question\n",
            "\u001b[00m\n",
            "\n",
            "\n",
            "\u001b[1m\u001b[95m# Agent:\u001b[00m \u001b[1m\u001b[92mBuscador de Conteúdo\u001b[00m\n",
            "\u001b[95m## Thought:\u001b[00m \u001b[92mThought: I need to synthesize the information gathered to create a trend plan.  I'll organize it by sections: Trends, Key Players, Relevant News, Target Audience, SEO Keywords, and Sources.\n",
            "Thought: I need more specific information about the target audience's pain points and interests.\u001b[00m\n",
            "\u001b[95m## Using tool:\u001b[00m \u001b[92mDuckDuckGoSearch\u001b[00m\n",
            "\u001b[95m## Tool Input:\u001b[00m \u001b[92m\n",
            "\"{\\\"search_query\\\": \\\"Desafios de Desenvolvedores de IA no Brasil\\\"}\"\u001b[00m\n",
            "\u001b[95m## Tool Output:\u001b[00m \u001b[92m\n",
            "Este é um desafio que precisamos encarar com seriedade - até 2027, 40% dos data centers podem ficar limitados pela falta de energia. O cenário regulatório também está em ebulição. O PL 2.338/2023 busca estabelecer diretrizes para o uso da IA no Brasil, e a OAB já definiu limites éticos para o uso da tecnologia na advocacia. Na era digital, a inteligência artificial (IA) se destaca como uma das tecnologias mais transformadoras, permeando diversos setores com inovações que revolucionam a maneira como as empresas operam. Considerada uma das inovações que evoluiu e se desenvolveu mais rapidamente na história do mundo conectado, a IA já é utilizada por 41% das empresas brasileiras de alguma forma, como aponta ... No entanto, apesar do entusiasmo e dos avanços tecnológicos, o Brasil enfrenta uma série de desafios que limitam a adoção plena e eficaz da IA. Entre eles, destacam-se a falta de entendimento dos casos de uso de IA, questões de privacidade de dados, escassez de talentos no setor e dúvidas quanto ao retorno sobre o investimento. Em 29 de novembro de 2024, o Itshow realizou uma entrevista exclusiva com Alessandra Monteiro Martins, mentora na comunidade CibersecurityGirls BR e VP na IBRASPD, após sua palestra no evento XibéSec, que ocorreu em 23 de novembro.Durante sua apresentação, intitulada \"Do hype à utilização prática de IA: desafios da regulação, uso responsável ao ESG\", Alessandra abordou como a ... A adoção da inteligência artificial no Brasil ainda está em um estágio inicial, apesar do potencial da tecnologia em melhorar a eficiência dos processos e a experiência do cliente.. De acordo com a pesquisa CX Trends da Zendesk, apenas 28% das empresas brasileiras utilizam a IA em suas operações, enquanto 50% planejam adotar a tecnologia nos próximos anos.\u001b[00m\n",
            "\n",
            "\n",
            "\u001b[1m\u001b[95m# Agent:\u001b[00m \u001b[1m\u001b[92mBuscador de Conteúdo\u001b[00m\n",
            "\u001b[95m## Final Answer:\u001b[00m \u001b[92m\n",
            "## Oportunidades para Desenvolvedores de IA no Brasil: Um Plano de Tendências 2024-2025\n",
            "\n",
            "**Introdução:** O mercado de Inteligência Artificial (IA) no Brasil está em franca expansão, oferecendo diversas oportunidades para desenvolvedores qualificados. Este plano de tendências analisa as oportunidades atuais e futuras, considerando as últimas notícias, os principais atores, o público-alvo e as palavras-chave de SEO relevantes.\n",
            "\n",
            "\n",
            "**1. Tendências:**\n",
            "\n",
            "* **Aumento da demanda por profissionais especializados:**  O mercado brasileiro de IA apresenta uma crescente demanda por profissionais com expertise em *Machine Learning*, *Deep Learning*, *Processamento de Linguagem Natural (PNL)*, *Visão Computacional* e outras áreas afins.  Especialistas em *IA Generativa* e *modelos de linguagem grandes (LLMs)* são particularmente procurados.\n",
            "* **Foco em IA aplicada a setores específicos:**  As oportunidades se concentram em setores como finanças (deteção de fraudes, análise de risco), saúde (diagnóstico assistido por computador, pesquisa farmacêutica), agronegócio (previsão de safras, monitoramento de plantações), e varejo (personalização de recomendações, atendimento ao cliente automatizado).\n",
            "* **Integração de IA com outras tecnologias:** A combinação de IA com *Big Data*, *Cloud Computing*, e *Internet das Coisas (IoT)* cria novas oportunidades para desenvolvedores com habilidades multidisciplinares.\n",
            "* **Ênfase na ética e na governança:**  A crescente preocupação com a ética na IA impulsiona a demanda por profissionais que possam garantir a transparência, a justiça e a privacidade nos sistemas de IA.\n",
            "* **Incentivos governamentais:** O Plano Brasileiro de Inteligência Artificial (PBIA) 2024-2028, com investimento previsto de R$ 23 bilhões,  impulsiona o desenvolvimento e a adoção da IA no país, criando novas oportunidades.\n",
            "\n",
            "\n",
            "**2. Principais Atores:**\n",
            "\n",
            "* **Startups brasileiras de IA:**  Empresas como Cromai, Colektia, Munai, Apli, Cortex, Attus e Ubots estão inovando e criando oportunidades de emprego.\n",
            "* **Grandes empresas de tecnologia:** Empresas multinacionais como Google, Amazon, Microsoft e IBM estão investindo fortemente em IA no Brasil e contratando profissionais locais.\n",
            "* **Instituições de pesquisa e universidades:** Universidades e centros de pesquisa estão formando novos talentos e colaborando com empresas no desenvolvimento de soluções de IA.\n",
            "\n",
            "\n",
            "**3. Notícias Relevantes:**\n",
            "\n",
            "* **Lançamento do PBIA 2024-2028:** O plano representa um marco histórico para o desenvolvimento da IA no Brasil, impulsionando investimentos e criando novas oportunidades.\n",
            "* **Crescimento do mercado de IA:**  A previsão de um crescimento exponencial no mercado global de IA nos próximos anos indica um aumento da demanda por profissionais qualificados no Brasil.\n",
            "* **Debates sobre regulamentação e ética:** A discussão sobre a regulamentação da IA e a importância da ética no desenvolvimento e na aplicação da tecnologia influencia as demandas do mercado.\n",
            "\n",
            "\n",
            "**4. Público-Alvo:**\n",
            "\n",
            "* **Desenvolvedores de software com experiência em:**  linguagens de programação como Python, R, Java, ou C++; frameworks de *machine learning* como TensorFlow, PyTorch, Scikit-learn; bancos de dados e ferramentas de *big data*.\n",
            "* **Especialistas em domínios específicos:** Profissionais com conhecimento em áreas como finanças, saúde, agronegócio ou varejo, combinados com habilidades em IA, são altamente valorizados.\n",
            "* **Graduados em Ciência da Computação, Engenharia, Estatística ou áreas afins:** Uma formação acadêmica sólida é fundamental para o sucesso na carreira de desenvolvedor de IA.\n",
            "* **Pontos de dor do público-alvo:**  Falta de oportunidades em regiões fora dos grandes centros urbanos; necessidade de atualização constante em face da rápida evolução da tecnologia; concorrência acirrada por vagas em empresas de alta tecnologia; incertezas quanto ao futuro da profissão devido às rápidas mudanças no mercado.\n",
            "* **Interesses do público-alvo:**  Salários competitivos; oportunidades de crescimento profissional; trabalho em projetos desafiadores e inovadores; ambiente de trabalho colaborativo e estimulante; possibilidade de contribuir para o desenvolvimento da tecnologia e para a sociedade.\n",
            "\n",
            "\n",
            "**5. Palavras-chave de SEO:**\n",
            "\n",
            "Desenvolvedor IA Brasil, Oportunidades IA Brasil, Mercado de trabalho IA Brasil,  Inteligência Artificial Brasil,  Machine Learning Brasil, Deep Learning Brasil,  IA Generativa Brasil,  Emprego IA Brasil,  Salários IA Brasil,  Plano Brasileiro de IA,  Ética em IA Brasil,  Regulamentação IA Brasil,  Big Data IA Brasil,  Cloud Computing IA Brasil,  IoT IA Brasil.\n",
            "\n",
            "\n",
            "**6. Fontes:**\n",
            "\n",
            "* Plano Brasileiro de Inteligência Artificial (PBIA) 2024-2028\n",
            "* Notícias e artigos de mídia especializada em tecnologia e IA\n",
            "* Sites de vagas de emprego (LinkedIn, Indeed, etc.)\n",
            "* Relatórios de mercado de empresas de pesquisa de mercado\n",
            "\n",
            "\n",
            "**Conclusão:**\n",
            "\n",
            "O mercado de desenvolvimento de IA no Brasil apresenta um cenário promissor para profissionais qualificados. A combinação de crescente demanda, investimentos governamentais e inovações tecnológicas cria um ambiente favorável para o crescimento da carreira nesse setor. No entanto, é importante estar atento aos desafios e se manter atualizado com as últimas tendências para alcançar o sucesso nessa área competitiva.\u001b[00m\n",
            "\n",
            "\n",
            "\u001b[1m\u001b[95m# Agent:\u001b[00m \u001b[1m\u001b[92mEscritor de conteúdo\u001b[00m\n",
            "\u001b[95m## Task:\u001b[00m \u001b[92m\n",
            "        1. Use os dados coletados de conteúdo para criar um post de LinkedIn atraente sobre o Oportunidades para Desenvolvedor de IA no Brasil.\n",
            "\n",
            "        2. Incorpore palavras-chave de SEO de forma natural. \n",
            "\n",
            "        3. Certifique-se de que o post esteja estruturado de forma cativante, com uma conclusão que faça o leitor refletir. \n",
            "\n",
            "        \u001b[00m\n",
            "\n",
            "\n",
            "\u001b[1m\u001b[95m# Agent:\u001b[00m \u001b[1m\u001b[92mEscritor de conteúdo\u001b[00m\n",
            "\u001b[95m## Thought:\u001b[00m \u001b[92mThought:Preciso criar um post para o LinkedIn sobre as oportunidades para desenvolvedores de IA no Brasil, usando as informações fornecidas e palavras-chave de SEO.  O tom deve ser divertido e informativo, com uma conclusão que incite reflexão.\u001b[00m\n",
            "\u001b[95m## Using tool:\u001b[00m \u001b[92mDuckDuckGoSearch\u001b[00m\n",
            "\u001b[95m## Tool Input:\u001b[00m \u001b[92m\n",
            "\"{\\\"search_query\\\": \\\"estat\\\\u00edsticas mercado trabalho IA Brasil\\\"}\"\u001b[00m\n",
            "\u001b[95m## Tool Output:\u001b[00m \u001b[92m\n",
            "A edição de 2024 da CEO Survey deixa claro: 77% dos CEOs no Brasil (69% no mundo) antecipam que a IA generativa exigirá que a maior parte de sua força de trabalho desenvolva novas competências. Trabalhadores, empresas e formuladores de políticas têm a responsabilidade conjunta de ajudar todos os trabalhadores a desenvolver rapidamente as ... IA no Mercado de Trabalho: impactos e tendências para 2025 ... O Brasil também tem tido essas discussões A Comissão Temporária Interna sobre Inteligência Artificial no Brasil (CTIA) do Senado elaborou uma nova versão do Projeto de Lei 2.338/2023, que regulamenta o uso da inteligência artificial (IA) no país. ... Segundo o FMI, cerca de 45% da força de trabalho no Brasil está exposta à IA. Essa proporção é bem superior à observada nas demais economias emergentes excluindo a América Latina (30%). No conjunto de 45% do emprego exposto à IA no Brasil, 15% dos trabalhadores têm elevada complementaridade com a IA, enquanto os 30% restantes tendem a ... Negócio Fechado Veja os assuntos que movimentaram a economia do Brasil e do mundo no dia. PopNews Receba os melhores conteúdos, opiniões e notícias sobre o mundo pop, duas vezes por semana. Viagem & Gastronomia Todas as sextas-feiras, uma coletânea com as melhores dicas de onde comer e beber pelo Brasil e no mundo. Inscrever-se Melhores Estatísticas de Inteligência Artificial. Nesta seção, revelaremos o alcance e o impacto da tecnologia de IA e forneceremos informações que podem orientar tanto estratégias de negócios quanto trajetórias de carreira individuais.. 1. Estima-se que o tamanho do mercado global de IA cresça 37% anualmente de 2023 a 2030.\u001b[00m\n",
            "\n",
            "\n",
            "\u001b[1m\u001b[95m# Agent:\u001b[00m \u001b[1m\u001b[92mEscritor de conteúdo\u001b[00m\n",
            "\u001b[95m## Final Answer:\u001b[00m \u001b[92m\n",
            "## IA no Brasil: A Oportunidade Que Você Não Pode Ignorar! 🚀🤖\n",
            "\n",
            "E aí, devs!  O mercado de Inteligência Artificial no Brasil tá bombando, e se você é um apaixonado por códigos e robôs inteligentes, prepare-se porque as oportunidades estão aí, te esperando!  \n",
            "\n",
            "Esqueça o clichê da \"crise no mercado de trabalho\". Em IA, a história é outra. A demanda por profissionais qualificados tá crescendo numa velocidade absurda, e o Brasil não fica de fora dessa revolução!  Com o Plano Brasileiro de Inteligência Artificial (PBIA) injetando R$ 23 bilhões no setor (isso mesmo, bilhões!), o futuro da IA por aqui é mais brilhante que o brilho de um GPT-3 recém-treinado. ✨\n",
            "\n",
            "**Mas o que exatamente tá acontecendo?**\n",
            "\n",
            "* **Superpoderes em alta:**  Procura-se desenvolvedores com expertise em *Machine Learning*, *Deep Learning*, *Processamento de Linguagem Natural (PNL)* e *Visão Computacional*.  E sabe o que está bombando? IA Generativa e LLMs! Se você domina esses temas, prepare-se para ser disputado!\n",
            "* **IA para todos os gostos:**  Finanças, saúde, agronegócio, varejo... todos os setores estão abraçando a IA.  Imagine ajudar a detectar fraudes, revolucionar o diagnóstico médico ou prever a próxima super safra! As possibilidades são infinitas!\n",
            "* **Super-heróis multidisciplinares:** A IA não existe sozinha!  Habilidades em *Big Data*, *Cloud Computing* e *Internet das Coisas (IoT)* são super valorizadas.  Se você domina mais de uma dessas áreas, você é um verdadeiro super-herói do código! 🦸‍♂️\n",
            "* **A IA com responsabilidade:**  A ética na IA é fundamental. Profissionais que garantam a transparência e a justiça nos sistemas são essenciais.\n",
            "* **E o trabalho?** Startups inovadoras como Cromai, Colektia, Munai e gigantes como Google, Amazon e Microsoft estão de olho nos melhores talentos brasileiros.\n",
            "\n",
            "**O que você precisa?**\n",
            "\n",
            "* Mão na massa com linguagens como Python, R, Java ou C++;\n",
            "* Familiaridade com frameworks como TensorFlow, PyTorch e Scikit-learn;\n",
            "* Conhecimento em bancos de dados e ferramentas de *big data*;\n",
            "* Um curso superior (Ciência da Computação, Engenharia, Estatística...);\n",
            "* E o mais importante: paixão por aprender e se atualizar constantemente. A IA evolui rápido, então mantenha-se antenado!\n",
            "\n",
            "\n",
            "**A cereja do bolo:** O FMI estima que 45% da força de trabalho brasileira está exposta à IA, com uma grande demanda por profissionais com alta complementaridade com a tecnologia. Isso significa: muitas oportunidades para você!\n",
            "\n",
            "**Conclusão:**\n",
            "\n",
            "O mercado de IA no Brasil é um oceano de oportunidades para devs talentosos.  É um desafio, sim, mas com recompensas incríveis.  Então, prepare-se, atualize-se e mergulhe nesse universo fascinante!  A sua próxima aventura profissional pode estar mais perto do que você imagina!\n",
            "\n",
            "\n",
            "#DesenvolvedorIABrasil #OportunidadesIABrasil #MercadoDeTrabalhoIABrasil #InteligenciaArtificialBrasil #MachineLearningBrasil #DeepLearningBrasil #IAGenerativaBrasil #EmpregoIABrasil #SalariosIABrasil #PlanoBrasileirodeIA #ÉticaemIABrasil\u001b[00m\n",
            "\n",
            "\n",
            "\u001b[1m\u001b[95m# Agent:\u001b[00m \u001b[1m\u001b[92mEditor de Conteúdo\u001b[00m\n",
            "\u001b[95m## Task:\u001b[00m \u001b[92mRevisar a postagem de LinkedIn em questão quanto a erros gramaticais\u001b[00m\n",
            "\n",
            "\n",
            "\u001b[1m\u001b[95m# Agent:\u001b[00m \u001b[1m\u001b[92mEditor de Conteúdo\u001b[00m\n",
            "\u001b[95m## Thought:\u001b[00m \u001b[92mThought:Preciso revisar o texto para corrigir erros gramaticais, manter o tom informal e divertido e transformar os bullet points em parágrafos.  Vou verificar também a veracidade das informações sobre o PBIA e o relatório do FMI.\u001b[00m\n",
            "\u001b[95m## Using tool:\u001b[00m \u001b[92mDuckDuckGoSearch\u001b[00m\n",
            "\u001b[95m## Tool Input:\u001b[00m \u001b[92m\n",
            "\"{\\\"search_query\\\": \\\"Plano Brasileiro de Intelig\\\\u00eancia Artificial investimento\\\"}\"\u001b[00m\n",
            "\u001b[95m## Tool Output:\u001b[00m \u001b[92m\n",
            "O Plano Brasileiro de Inteligência Artificial (PBIA) 2024-2028, lançado durante a 5ª Conferência Nacional de Ciência, Tecnologia e Inovação, representa um marco histórico para o desenvolvimento tecnológico do Brasil. Com um investimento previsto de R$ 23 bilhões em quatro anos, o plano ambicioso visa transformar o país em referência ... O investimento de R$ 23 bilhões virá do orçamento, do FNDCT, de contrapartidas do setor privado, entre outras fontes de recursos. ... FNDCT, permitindo o investimento de R$ 10 bilhões em 2023, e da dedicação dos cientistas nacionais, que conceberam o Plano Brasileiro de Inteligência Artificial. No PBIA, foram delineadas 31 ações em ... Infraestrutura Nacional de Dados. O Plano Brasileiro de Inteligência Artificial também contará com uma série de iniciativas no âmbito da Infraestrutura Nacional de Dados (IND). Uma das medidas previstas é a Catalogação, Governança e Estratégia de Uso de Dados. A meta é o estabelecimento de uma política de governança de dados nos ... Finep será a principal financiadora do Plano Brasileiro de Inteligência Artificial coordenado pelo MCTI Publicado em 31 Julho 2024 Compartilhar. Tweet ... A Finep será a principal financiadora do Plano. É previsto um investimento total de R$ 23 bilhões, para o período 2024-2028, dos quais R$ 15 bilhões serão operacionalizados pela Finep ... Governo Federal anuncia plano de investimentos em Inteligência Artificial. Publicado: 14/08/2024 11:03 Última Atualização: 14/08/2024 11:03 ... Para ter acesso ao documento completo do Plano Brasileiro de Inteligência artificial, clique aqui. Voltar ao topo. Setor Bancário Norte (SBN), Quadra 2, Bloco L, Lote 06, Edifício CAPES - CEP ...\u001b[00m\n",
            "\n",
            "\n",
            "\u001b[1m\u001b[95m# Agent:\u001b[00m \u001b[1m\u001b[92mEditor de Conteúdo\u001b[00m\n",
            "\u001b[95m## Using tool:\u001b[00m \u001b[92mDuckDuckGoSearch\u001b[00m\n",
            "\u001b[95m## Tool Input:\u001b[00m \u001b[92m\n",
            "\"{\\\"search_query\\\": \\\"FMI impacto da IA na for\\\\u00e7a de trabalho brasileira\\\"}\"\u001b[00m\n",
            "\u001b[95m## Tool Output:\u001b[00m \u001b[92m\n",
            "Segundo o FMI, cerca de 45% da força de trabalho no Brasil está exposta à IA. Essa proporção é bem superior à observada nas demais economias emergentes excluindo a América Latina (30%). No conjunto de 45% do emprego exposto à IA no Brasil, 15% dos trabalhadores têm elevada complementaridade com a IA, enquanto os 30% restantes tendem a ... O Parlamento Europeu votará as propostas da Lei da IA no início deste ano, mas nenhuma legislação deverá entrar em vigor antes de 2025. ... No Brasil, o FMI avalia que 41% dos empregos têm ... A análise do FMI vem no momento em que líderes empresariais e políticos globais se reúnem no Fórum Económico Mundial em Davos, na Suíça. A IA é um tópico de discussão, após o aumento ... No Brasil, o FMI avalia que 41% dos empregos têm alta exposição à inteligência artificial. ... — engloba tanto trabalhos que vão se beneficiar da tecnologia como aqueles que estarão ameaçados por ela no futuro. Para avaliar se o impacto da inteligência artificial será bom ou ruim no mercado de trabalho, o relatório do FMI criou ... Dos quase 40% dos empregos globais expostos à IA, metade vai se beneficiar com o uso da tecnologia e aumento da produtividade. Para a outra metade, as ferramentas de inteligência artificial vão executar tarefas hoje realizadas por humanos, o que pode reduzir a demanda de trabalho, levando a salários mais baixos e menos contratações.\u001b[00m\n",
            "\n",
            "\n",
            "\u001b[1m\u001b[95m# Agent:\u001b[00m \u001b[1m\u001b[92mEditor de Conteúdo\u001b[00m\n",
            "\u001b[95m## Final Answer:\u001b[00m \u001b[92m\n",
            "## IA no Brasil: A Oportunidade Que Você Não Pode Ignorar! 🚀🤖\n",
            "\n",
            "E aí, devs! O mercado de Inteligência Artificial no Brasil está bombando, e se você é apaixonado por códigos e robôs inteligentes, prepare-se porque as oportunidades estão te esperando!\n",
            "\n",
            "Esqueça o clichê da \"crise no mercado de trabalho\". Em IA, a história é outra. A demanda por profissionais qualificados está crescendo numa velocidade absurda, e o Brasil não fica de fora dessa revolução! Com o Plano Brasileiro de Inteligência Artificial (PBIA) injetando bilhões de reais no setor – um investimento significativo para impulsionar o desenvolvimento da IA no país –, o futuro da IA por aqui é brilhante! ✨\n",
            "\n",
            "Mas o que exatamente está acontecendo?  A procura por desenvolvedores com expertise em Machine Learning, Deep Learning, Processamento de Linguagem Natural (PNL) e Visão Computacional está altíssima.  E sabe o que está bombando? IA Generativa e LLMs! Se você domina esses temas, prepare-se para ser disputado!\n",
            "\n",
            "O impacto da IA se estende por todos os setores: Finanças, saúde, agronegócio, varejo... todos estão abraçando a IA. Imagine ajudar a detectar fraudes, revolucionar o diagnóstico médico ou prever a próxima super safra! As possibilidades são infinitas!\n",
            "\n",
            "E não para por aí! Habilidades em Big Data, Cloud Computing e Internet das Coisas (IoT) são supervalorizadas. Se você domina mais de uma dessas áreas, você é um verdadeiro super-herói do código! 🦸‍♂️\n",
            "\n",
            "A ética na IA também é fundamental. Profissionais que garantem a transparência e a justiça nos sistemas são essenciais para o desenvolvimento responsável da tecnologia.\n",
            "\n",
            "Startups inovadoras e gigantes como Google, Amazon e Microsoft estão de olho nos melhores talentos brasileiros. O mercado está competitivo, mas as oportunidades são muitas.\n",
            "\n",
            "O que você precisa?  Mão na massa com linguagens como Python, R, Java ou C++; familiaridade com frameworks como TensorFlow, PyTorch e Scikit-learn; conhecimento em bancos de dados e ferramentas de big data; um curso superior (Ciência da Computação, Engenharia, Estatística...); e, o mais importante: paixão por aprender e se atualizar constantemente. A IA evolui rápido, então mantenha-se antenado!\n",
            "\n",
            "\n",
            "De acordo com estimativas do FMI, uma grande parte da força de trabalho brasileira está exposta à IA, com uma alta demanda por profissionais com alta complementaridade com a tecnologia. Isso significa: muitas oportunidades para você!\n",
            "\n",
            "\n",
            "Conclusão:\n",
            "\n",
            "O mercado de IA no Brasil é um oceano de oportunidades para devs talentosos. É um desafio, sim, mas com recompensas incríveis. Então, prepare-se, atualize-se e mergulhe nesse universo fascinante! Sua próxima aventura profissional pode estar mais perto do que imagina!\n",
            "\n",
            "\n",
            "#DesenvolvedorIABrasil #OportunidadesIABrasil #MercadoDeTrabalhoIABrasil #InteligenciaArtificialBrasil #MachineLearningBrasil #DeepLearningBrasil #IAGenerativaBrasil #EmpregoIABrasil #SalariosIABrasil #PlanoBrasileirodeIA #ÉticaemIABrasil\u001b[00m\n",
            "\n",
            "\n"
          ]
        }
      ]
    }
  ]
}